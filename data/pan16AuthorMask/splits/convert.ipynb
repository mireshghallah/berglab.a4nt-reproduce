{
 "cells": [
  {
   "cell_type": "code",
   "execution_count": 1,
   "metadata": {},
   "outputs": [],
   "source": [
    "\n",
    "import json\n",
    "\n",
    "with open('dataset_blog.json.original') as f:\n",
    "  data = json.load(f)"
   ]
  },
  {
   "cell_type": "code",
   "execution_count": 2,
   "metadata": {},
   "outputs": [
    {
     "data": {
      "text/plain": "dict_keys(['rawtext', 'author', 'gender', 'age', 'work', 'tokens', 'actage', 'split', 'attrib'])"
     },
     "execution_count": 2,
     "metadata": {},
     "output_type": "execute_result"
    }
   ],
   "source": [
    "data['docs'][0].keys()"
   ]
  },
  {
   "cell_type": "code",
   "execution_count": 3,
   "metadata": {},
   "outputs": [
    {
     "data": {
      "text/plain": "'train'"
     },
     "execution_count": 3,
     "metadata": {},
     "output_type": "execute_result"
    }
   ],
   "source": [
    "data[\"docs\"][2]['split']"
   ]
  },
  {
   "cell_type": "code",
   "execution_count": 4,
   "metadata": {},
   "outputs": [],
   "source": [
    "my_data=json.loads('{ \"configs\": {}}')\n",
    "my_data[\"configs\"]=data[\"configs\"]\n",
    "my_data[\"docs\"]=[data[\"docs\"][0], data[\"docs\"][2]]\n"
   ]
  },
  {
   "cell_type": "code",
   "execution_count": 5,
   "metadata": {
    "tags": []
   },
   "outputs": [],
   "source": [
    "\n",
    "with open(\"dev_drop_20.txt\", \"r\") as input_src , \\\n",
    "    open(\"dev_drop_20.attr\", \"r\") as input_trg: \n",
    "        for i, ( sent, dom ) in enumerate( zip(input_src, input_trg)):\n",
    "            #dict_keys(['rawtext', 'author', 'gender', 'age', 'work', 'tokens', 'actage', 'split', 'attrib'])\n",
    "            if dom == \"dom0\\n\":\n",
    "                age = '15'\n",
    "                actage = '13-23'\n",
    "            elif dom == \"dom1\\n\":\n",
    "                age = '48'\n",
    "                actage = '24-48'\n",
    "            else:\n",
    "                print(dom)\n",
    "                print(\"error\")\n",
    "                \n",
    "            my_doc = {  'rawtext': [sent], \n",
    "                        'author' : i,\n",
    "                        'gender' : 'male',\n",
    "                        'age' : age,\n",
    "                        'work' : 'indUnk',\n",
    "                        'tokens' : [\"START \"+sent[:-1]+\" END\"],\n",
    "                        'actage' : actage,\n",
    "                        'split' : 'val',\n",
    "                        'attrib': {'age': age,\n",
    "                            'gender': 'male',\n",
    "                            'sign': 'Aries',\n",
    "                            'work': 'indUnk' }\n",
    "                        }\n",
    "            #print(my_doc)\n",
    "            my_data['docs'].append(my_doc)\n",
    "            # print(my_data)\n",
    "            # break\n",
    "            "
   ]
  },
  {
   "cell_type": "code",
   "execution_count": 6,
   "metadata": {},
   "outputs": [],
   "source": [
    "with open('dataset_blog.json', 'w') as f:\n",
    "    json.dump(my_data, f)"
   ]
  },
  {
   "cell_type": "code",
   "execution_count": null,
   "metadata": {},
   "outputs": [],
   "source": []
  }
 ],
 "metadata": {
  "kernelspec": {
   "display_name": "Python 3",
   "language": "python",
   "name": "python3"
  },
  "language_info": {
   "codemirror_mode": {
    "name": "ipython",
    "version": 3
   },
   "file_extension": ".py",
   "mimetype": "text/x-python",
   "name": "python",
   "nbconvert_exporter": "python",
   "pygments_lexer": "ipython3",
   "version": "3.8.3"
  },
  "orig_nbformat": 2
 },
 "nbformat": 4,
 "nbformat_minor": 2
}